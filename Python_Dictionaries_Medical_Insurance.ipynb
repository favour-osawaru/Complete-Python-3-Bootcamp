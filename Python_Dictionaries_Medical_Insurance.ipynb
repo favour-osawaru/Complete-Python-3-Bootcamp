{
  "cells": [
    {
      "cell_type": "markdown",
      "metadata": {
        "id": "view-in-github",
        "colab_type": "text"
      },
      "source": [
        "<a href=\"https://colab.research.google.com/github/favour-osawaru/Complete-Python-3-Bootcamp/blob/master/Python_Dictionaries_Medical_Insurance.ipynb\" target=\"_parent\"><img src=\"https://colab.research.google.com/assets/colab-badge.svg\" alt=\"Open In Colab\"/></a>"
      ]
    },
    {
      "cell_type": "markdown",
      "id": "506b51bc",
      "metadata": {
        "id": "506b51bc"
      },
      "source": [
        "# Python Dictionaries: Medical Insurance Project"
      ]
    },
    {
      "cell_type": "markdown",
      "id": "862d76b9",
      "metadata": {
        "id": "862d76b9"
      },
      "source": [
        "You have been asked to create a program that organizes and updates medical records efficiently.\n",
        "\n",
        "In this project, you will use your new knowledge of Python dictionaries to create a database of medical records for patients.\n",
        "\n",
        "Let's get started!"
      ]
    },
    {
      "cell_type": "markdown",
      "id": "269b7e44",
      "metadata": {
        "id": "269b7e44"
      },
      "source": [
        "## Storing Patient Names and Insurance Costs"
      ]
    },
    {
      "cell_type": "markdown",
      "id": "ca586fc7",
      "metadata": {
        "id": "ca586fc7"
      },
      "source": [
        "1. We would like to keep a record of medical patients and their insurance costs.\n",
        "\n",
        "   First, create an empty dictionary called `medical_costs`."
      ]
    },
    {
      "cell_type": "code",
      "execution_count": 2,
      "id": "e6df17a2",
      "metadata": {
        "id": "e6df17a2"
      },
      "outputs": [],
      "source": [
        "medical_costs = {}"
      ]
    },
    {
      "cell_type": "markdown",
      "id": "e06605b6",
      "metadata": {
        "id": "e06605b6"
      },
      "source": [
        "2. Let's populate our `medical_costs` dictionary by adding the following key-value pairs:\n",
        "   - Add `\"Marina\"` to `medical_costs` as a key with a value of `6607.0`.\n",
        "   - Add `\"Vinay\"` to `medical_costs` as a key with a value of `3225.0`."
      ]
    },
    {
      "cell_type": "code",
      "execution_count": 3,
      "id": "dec12f6a",
      "metadata": {
        "id": "dec12f6a"
      },
      "outputs": [],
      "source": [
        "medical_costs[\"Marina\"] = 6607.0\n",
        "medical_costs[\"Vinay\"] = 3225.0\n"
      ]
    },
    {
      "cell_type": "markdown",
      "id": "a093528d",
      "metadata": {
        "id": "a093528d"
      },
      "source": [
        "3. Using one line of code, add the following three patients to the `medical_costs` dictionary:\n",
        "   - `\"Connie\"`, with an insurance cost of `8886.0`.\n",
        "   - `\"Isaac\"`, with an insurance cost of `16444.0`.\n",
        "   - `\"Valentina\"`, with an insurance cost of `6420.0`."
      ]
    },
    {
      "cell_type": "code",
      "execution_count": 4,
      "id": "015d4658",
      "metadata": {
        "id": "015d4658"
      },
      "outputs": [],
      "source": [
        "medical_costs.update({'Connnie':8886.0,'Issac':16444.0,'Valentina':6420.0})"
      ]
    },
    {
      "cell_type": "markdown",
      "id": "9e2e45fa",
      "metadata": {
        "id": "9e2e45fa"
      },
      "source": [
        "4. Print `medical_costs`. Make sure the dictionary is what you expected."
      ]
    },
    {
      "cell_type": "code",
      "execution_count": 5,
      "id": "8b58435b",
      "metadata": {
        "colab": {
          "base_uri": "https://localhost:8080/"
        },
        "id": "8b58435b",
        "outputId": "1df19bca-c349-400a-9f90-a58f5bd8404f"
      },
      "outputs": [
        {
          "output_type": "stream",
          "name": "stdout",
          "text": [
            "{'Marina': 6607.0, 'Vinay': 3225.0, 'Connnie': 8886.0, 'Issac': 16444.0, 'Valentina': 6420.0}\n"
          ]
        }
      ],
      "source": [
        "print(medical_costs)"
      ]
    },
    {
      "cell_type": "markdown",
      "id": "e79e7ee3",
      "metadata": {
        "id": "e79e7ee3"
      },
      "source": [
        "5. You notice that `Vinay`'s insurance cost was incorrectly inputted. Update the value associated with `Vinay` to `3325.0`.\n",
        "\n",
        "   Print the updated dictionary."
      ]
    },
    {
      "cell_type": "code",
      "execution_count": 6,
      "id": "8b484f83",
      "metadata": {
        "id": "8b484f83"
      },
      "outputs": [],
      "source": [
        "medical_costs['Vinay'] = 3325.0"
      ]
    },
    {
      "cell_type": "markdown",
      "id": "36d43988",
      "metadata": {
        "id": "36d43988"
      },
      "source": [
        "6. Let's calculate the average medical cost of each patient. Create a variable called `total_cost` and set it equal to 0.\n",
        "\n",
        "   Next, iterate through the values in `medical_costs` and add each value to the `total_cost` variable."
      ]
    },
    {
      "cell_type": "code",
      "execution_count": 8,
      "id": "ef636a71",
      "metadata": {
        "id": "ef636a71"
      },
      "outputs": [],
      "source": [
        "total_cost = 0\n",
        "for cost in medical_costs.values():\n",
        "  total_cost += cost"
      ]
    },
    {
      "cell_type": "markdown",
      "id": "0dc5e0ba",
      "metadata": {
        "id": "0dc5e0ba"
      },
      "source": [
        "7. After the loop, create a variable called `average_cost` that stores the `total_cost` divided by the length of the `medical_costs` dictionary.\n",
        "\n",
        "   Print `average_cost` with the following message:\n",
        "   \n",
        "   ```\n",
        "   Average Insurance Cost: {average_cost}\n",
        "   ```"
      ]
    },
    {
      "cell_type": "code",
      "execution_count": 10,
      "id": "a6d83515",
      "metadata": {
        "colab": {
          "base_uri": "https://localhost:8080/"
        },
        "id": "a6d83515",
        "outputId": "0388f4de-f840-4a95-8cc3-a7f8d331fbc2"
      },
      "outputs": [
        {
          "output_type": "stream",
          "name": "stdout",
          "text": [
            "Average Insurace Cost: 8336.4\n"
          ]
        }
      ],
      "source": [
        "average_cost = total_cost/len(medical_costs)\n",
        "print('Average Insurace Cost: {}'.format(average_cost))"
      ]
    },
    {
      "cell_type": "markdown",
      "id": "0f603e5b",
      "metadata": {
        "id": "0f603e5b"
      },
      "source": [
        "## List Comprehension to Dictionary"
      ]
    },
    {
      "cell_type": "markdown",
      "id": "b6e9f6f6",
      "metadata": {
        "id": "b6e9f6f6"
      },
      "source": [
        "8. You have been asked to create a second dictionary that maps patient names to their ages.\n",
        "\n",
        "   First, create two lists called `names` and `ages` with the following data:\n",
        "   \n",
        "   names | ages\n",
        "   --- | ---\n",
        "   Marina | 27\n",
        "   Vinay | 24\n",
        "   Connie | 43\n",
        "   Isaac | 35\n",
        "   Valentina | 52"
      ]
    },
    {
      "cell_type": "code",
      "execution_count": 15,
      "id": "88db2876",
      "metadata": {
        "id": "88db2876"
      },
      "outputs": [],
      "source": [
        "names = ['Marina','Vinay','Connie','Issac','Valentina']\n",
        "ages = [27,24,43,35,52]"
      ]
    },
    {
      "cell_type": "markdown",
      "id": "d213ceb2",
      "metadata": {
        "id": "d213ceb2"
      },
      "source": [
        "9. Next, create a variable called `zipped_ages` that is a zipped list of pairs between the `names` list and the `ages` list."
      ]
    },
    {
      "cell_type": "code",
      "execution_count": 16,
      "id": "eddb66ba",
      "metadata": {
        "id": "eddb66ba"
      },
      "outputs": [],
      "source": [
        "zipped_ages = zip(names,ages)"
      ]
    },
    {
      "cell_type": "markdown",
      "id": "d0df86ec",
      "metadata": {
        "id": "d0df86ec"
      },
      "source": [
        "10. Create a dictionary called `names_to_ages` by using a list comprehension that iterates through `zipped_ages` and turns each pair into a key : value item.\n",
        "\n",
        "    Print `names_to_ages` to see the result."
      ]
    },
    {
      "cell_type": "code",
      "execution_count": 17,
      "id": "dc760b49",
      "metadata": {
        "colab": {
          "base_uri": "https://localhost:8080/"
        },
        "id": "dc760b49",
        "outputId": "b25ac09c-177e-4b04-a5ae-f53f2c5f64ab"
      },
      "outputs": [
        {
          "output_type": "stream",
          "name": "stdout",
          "text": [
            "{'Marina': 27, 'Vinay': 24, 'Connie': 43, 'Issac': 35, 'Valentina': 52}\n"
          ]
        }
      ],
      "source": [
        "names_to_ages = {key:value for key,value in zipped_ages}\n",
        "print(names_to_ages)"
      ]
    },
    {
      "cell_type": "markdown",
      "id": "cb598e55",
      "metadata": {
        "id": "cb598e55"
      },
      "source": [
        "11. Use `.get()` to get the value of Marina's age and store it in a variable called `marina_age`. Use `None` as a default value if the key doesn't exist.\n",
        "\n",
        "    Print `marina_age` with the following message:\n",
        "    \n",
        "    ```\n",
        "    Marina's age is {marina_age}\n",
        "    ```"
      ]
    },
    {
      "cell_type": "code",
      "execution_count": 19,
      "id": "a7c9e288",
      "metadata": {
        "colab": {
          "base_uri": "https://localhost:8080/"
        },
        "id": "a7c9e288",
        "outputId": "8348b3ad-31ef-46ed-fce7-5441ecc93964"
      },
      "outputs": [
        {
          "output_type": "stream",
          "name": "stdout",
          "text": [
            "Marina's age is 27\n"
          ]
        }
      ],
      "source": [
        "marina_age = names_to_ages.get(\"Marina\",0)\n",
        "print('Marina\\'s age is {}'.format(marina_age))"
      ]
    },
    {
      "cell_type": "markdown",
      "id": "b96b80f0",
      "metadata": {
        "id": "b96b80f0"
      },
      "source": [
        "## Using a Dictionary to Create a Medical Database"
      ]
    },
    {
      "cell_type": "markdown",
      "id": "4d1e02cf",
      "metadata": {
        "id": "4d1e02cf"
      },
      "source": [
        "12. Let's create a third dictionary to represent a database of medical records that contains information such as a patient's name, age, sex, gender, BMI, number of children, smoker status, and insurance cost.\n",
        "\n",
        "    First, create an empty dictionary called `medical_records`."
      ]
    },
    {
      "cell_type": "code",
      "execution_count": 25,
      "id": "768401f1",
      "metadata": {
        "id": "768401f1"
      },
      "outputs": [],
      "source": [
        "medical_records = {}"
      ]
    },
    {
      "cell_type": "markdown",
      "id": "a035c911",
      "metadata": {
        "id": "a035c911"
      },
      "source": [
        "13. Next, add `\"Marina\"` to `medical_records` as a key with the value being a dictionary of medical data:\n",
        "\n",
        "    ```py\n",
        "    {\"Age\": 27, \"Sex\": \"Female\", \"BMI\": 31.1, \"Children\": 2, \"Smoker\": \"Non-smoker\", \"Insurance_cost\": 6607.0}\n",
        "    ```"
      ]
    },
    {
      "cell_type": "code",
      "execution_count": 26,
      "id": "5f4a0390",
      "metadata": {
        "id": "5f4a0390"
      },
      "outputs": [],
      "source": [
        "medical_records.update({'Marina':{\"Age\": 27, \"Sex\": \"Female\", \"BMI\": 31.1, \"Children\": 2, \"Smoker\": \"Non-smoker\", \"Insurance_cost\": 6607.0}})"
      ]
    },
    {
      "cell_type": "markdown",
      "id": "739bac2e",
      "metadata": {
        "id": "739bac2e"
      },
      "source": [
        "14. Do the same for the following individuals:\n",
        "    \n",
        "    Name | Age | Sex | BMI | Children | Smoker | Insurance Cost\n",
        "    --- | --- | --- | --- | --- | --- | ---\n",
        "    Vinay | 24 | Male | 26.9 | 0 | Non-smoker | 3225.0\n",
        "    Connie | 43 | Female | 25.3 | 3 | Non-smoker | 8886.0\n",
        "    Isaac | 35 | Male | 20.6 | 4 | Smoker | 16444.0\n",
        "    Valentina | 52 | Female | 18.7 | 1 | Non-smoker | 6420.0"
      ]
    },
    {
      "cell_type": "code",
      "execution_count": 27,
      "id": "55de66f6",
      "metadata": {
        "id": "55de66f6"
      },
      "outputs": [],
      "source": [
        "medical_records.update({'Vinay':{\"Age\": 24, \"Sex\": \"Male\", \"BMI\": 26.9, \"Children\": 0, \"Smoker\": \"Non-smoker\", \"Insurance_cost\": 3225.0},\n",
        "                        'Connie':{\"Age\": 43, \"Sex\": \"Female\", \"BMI\": 25.3, \"Children\": 3, \"Smoker\": \"Non-smoker\", \"Insurance_cost\": 8886.0},\n",
        "                        'Issac':{\"Age\": 35, \"Sex\": \"Male\", \"BMI\": 20.6, \"Children\": 4, \"Smoker\": \"Smoker\", \"Insurance_cost\": 16444.0},\n",
        "                        'Valentina':{\"Age\": 52, \"Sex\": \"Female\", \"BMI\": 18.7, \"Children\": 1, \"Smoker\": \"Non-smoker\", \"Insurance_cost\": 6420.0}})"
      ]
    },
    {
      "cell_type": "markdown",
      "id": "fbe83204",
      "metadata": {
        "id": "fbe83204"
      },
      "source": [
        "15. Print `medical_records` to see the result."
      ]
    },
    {
      "cell_type": "code",
      "execution_count": 28,
      "id": "88c952f7",
      "metadata": {
        "colab": {
          "base_uri": "https://localhost:8080/"
        },
        "id": "88c952f7",
        "outputId": "86d1e612-64d6-439c-8fe4-4948d795698d"
      },
      "outputs": [
        {
          "output_type": "stream",
          "name": "stdout",
          "text": [
            "{'Marina': {'Age': 27, 'Sex': 'Female', 'BMI': 31.1, 'Children': 2, 'Smoker': 'Non-smoker', 'Insurance_cost': 6607.0}, 'Vinay': {'Age': 24, 'Sex': 'Male', 'BMI': 26.9, 'Children': 0, 'Smoker': 'Non-smoker', 'Insurance_cost': 3225.0}, 'Connie': {'Age': 43, 'Sex': 'Female', 'BMI': 25.3, 'Children': 3, 'Smoker': 'Non-smoker', 'Insurance_cost': 8886.0}, 'Issac': {'Age': 35, 'Sex': 'Male', 'BMI': 20.6, 'Children': 4, 'Smoker': 'Smoker', 'Insurance_cost': 16444.0}, 'Valentina': {'Age': 52, 'Sex': 'Female', 'BMI': 18.7, 'Children': 1, 'Smoker': 'Non-smoker', 'Insurance_cost': 6420.0}}\n"
          ]
        }
      ],
      "source": [
        "print(medical_records)"
      ]
    },
    {
      "cell_type": "markdown",
      "id": "96f5661c",
      "metadata": {
        "id": "96f5661c"
      },
      "source": [
        "16. The `medical_records` dictionary acts like a database of medical records. Let's access a specific piece of data in `medical_records`.\n",
        "\n",
        "    Print out `Connie`'s insurance cost with the following message:\n",
        "    \n",
        "    ```\n",
        "    Connie's insurance cost is X dollars.\n",
        "    ```"
      ]
    },
    {
      "cell_type": "code",
      "execution_count": 34,
      "id": "2eb86872",
      "metadata": {
        "colab": {
          "base_uri": "https://localhost:8080/"
        },
        "id": "2eb86872",
        "outputId": "0648be00-729e-4e8c-9e24-c1dddf7d2741"
      },
      "outputs": [
        {
          "output_type": "stream",
          "name": "stdout",
          "text": [
            "Connie's insurance cost is 8886.0 dollars.\n"
          ]
        }
      ],
      "source": [
        "connie_insurance = medical_records['Connie'].get('Insurance_cost',0)\n",
        "print('Connie\\'s insurance cost is {} dollars.'.format(connie_insurance))"
      ]
    },
    {
      "cell_type": "markdown",
      "id": "9b33384f",
      "metadata": {
        "id": "9b33384f"
      },
      "source": [
        "17. `Vinay` has moved to a new country, and we no longer want to include him in our medical records.\n",
        "\n",
        "    Remove `Vinay` from `medical_records`."
      ]
    },
    {
      "cell_type": "code",
      "execution_count": 38,
      "id": "eeeb5b8d",
      "metadata": {
        "colab": {
          "base_uri": "https://localhost:8080/"
        },
        "id": "eeeb5b8d",
        "outputId": "70421f35-3cd8-444a-c194-abcb72129729"
      },
      "outputs": [
        {
          "output_type": "stream",
          "name": "stdout",
          "text": [
            "{'Marina': {'Age': 27, 'Sex': 'Female', 'BMI': 31.1, 'Children': 2, 'Smoker': 'Non-smoker', 'Insurance_cost': 6607.0}, 'Connie': {'Age': 43, 'Sex': 'Female', 'BMI': 25.3, 'Children': 3, 'Smoker': 'Non-smoker', 'Insurance_cost': 8886.0}, 'Issac': {'Age': 35, 'Sex': 'Male', 'BMI': 20.6, 'Children': 4, 'Smoker': 'Smoker', 'Insurance_cost': 16444.0}, 'Valentina': {'Age': 52, 'Sex': 'Female', 'BMI': 18.7, 'Children': 1, 'Smoker': 'Non-smoker', 'Insurance_cost': 6420.0}}\n"
          ]
        }
      ],
      "source": [
        "#medical_records.pop('Vinay')\n",
        "print(medical_records)"
      ]
    },
    {
      "cell_type": "markdown",
      "id": "0cde5d29",
      "metadata": {
        "id": "0cde5d29"
      },
      "source": [
        "18. Let's take a closer look at each patient's medical record.\n",
        "\n",
        "    Use a `for` loop to iterate through the items of `medical_records`. For each key-value pair, print out a string that looks like the following:\n",
        "    \n",
        "    ```\n",
        "    {Name} is a {Age} year old {Sex} {Smoker} with a BMI of {BMI} and insurance cost of {Insurance_cost}\n",
        "    ```"
      ]
    },
    {
      "cell_type": "code",
      "execution_count": 44,
      "id": "39301cd2",
      "metadata": {
        "colab": {
          "base_uri": "https://localhost:8080/"
        },
        "id": "39301cd2",
        "outputId": "4cd83b83-e735-4661-c1e1-08b675c80db1"
      },
      "outputs": [
        {
          "output_type": "stream",
          "name": "stdout",
          "text": [
            "Marina is a 27 year old Female Non-smoker with a BMI of 31.1 and insurance cost of 6607.0\n",
            "Connie is a 43 year old Female Non-smoker with a BMI of 25.3 and insurance cost of 8886.0\n",
            "Issac is a 35 year old Male Smoker with a BMI of 20.6 and insurance cost of 16444.0\n",
            "Valentina is a 52 year old Female Non-smoker with a BMI of 18.7 and insurance cost of 6420.0\n"
          ]
        }
      ],
      "source": [
        "for name,record in medical_records.items():\n",
        "  print(name + \" is a \" + str(record[\"Age\"]) + \" year old \" + record[\"Sex\"] + \" \" + record[\"Smoker\"] + \" with a BMI of \" + str(record[\"BMI\"]) + \" and insurance cost of \" + str(record[\"Insurance_cost\"]))\n"
      ]
    },
    {
      "cell_type": "markdown",
      "id": "087a263c",
      "metadata": {
        "id": "087a263c"
      },
      "source": [
        "## Extra"
      ]
    },
    {
      "cell_type": "markdown",
      "id": "8e3067e6",
      "metadata": {
        "id": "8e3067e6"
      },
      "source": [
        "19. Congratulations! In this project, you used Python dictionaries to store and update medical data for individuals.\n",
        "\n",
        "    If you'd like extra practice with dictionaries, here are some suggestions to go further with this project:\n",
        "    - Create a function called `update_medical_records()` that takes in the name of an individual as well as their medical data, and then updates the `medical_records` dictionary accordingly.\n",
        "    - Create a new dictionary of your choice - feel free to get creative!\n",
        "    \n",
        "    Happy coding!"
      ]
    },
    {
      "cell_type": "code",
      "execution_count": null,
      "id": "ac494987",
      "metadata": {
        "id": "ac494987"
      },
      "outputs": [],
      "source": []
    },
    {
      "cell_type": "code",
      "execution_count": null,
      "id": "4195bad7",
      "metadata": {
        "id": "4195bad7"
      },
      "outputs": [],
      "source": []
    }
  ],
  "metadata": {
    "kernelspec": {
      "display_name": "Python 3 (ipykernel)",
      "language": "python",
      "name": "python3"
    },
    "language_info": {
      "codemirror_mode": {
        "name": "ipython",
        "version": 3
      },
      "file_extension": ".py",
      "mimetype": "text/x-python",
      "name": "python",
      "nbconvert_exporter": "python",
      "pygments_lexer": "ipython3",
      "version": "3.7.11"
    },
    "colab": {
      "provenance": [],
      "include_colab_link": true
    }
  },
  "nbformat": 4,
  "nbformat_minor": 5
}